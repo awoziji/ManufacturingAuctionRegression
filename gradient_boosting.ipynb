{
 "cells": [
  {
   "cell_type": "markdown",
   "metadata": {},
   "source": [
    "<h4>Imports</h4>"
   ]
  },
  {
   "cell_type": "code",
   "execution_count": 3,
   "metadata": {
    "collapsed": false
   },
   "outputs": [],
   "source": [
    "import pandas as pd\n",
    "import numpy as np\n",
    "from sklearn.ensemble import GradientBoostingRegressor\n",
    "from sklearn.cross_validation import train_test_split\n",
    "from sklearn.cross_validation import cross_val_score\n",
    "from sklearn.preprocessing import Imputer\n",
    "from sklearn.metrics import make_scorer\n"
   ]
  },
  {
   "cell_type": "markdown",
   "metadata": {},
   "source": [
    "<h4>Data Import and Cleaning</h4>"
   ]
  },
  {
   "cell_type": "code",
   "execution_count": 4,
   "metadata": {
    "collapsed": false
   },
   "outputs": [
    {
     "name": "stderr",
     "output_type": "stream",
     "text": [
      "/Users/Trent/anaconda/lib/python2.7/site-packages/IPython/core/interactiveshell.py:2717: DtypeWarning: Columns (13,39,40,41) have mixed types. Specify dtype option on import or set low_memory=False.\n",
      "  interactivity=interactivity, compiler=compiler, result=result)\n"
     ]
    }
   ],
   "source": [
    "#reading and formatting part 1\n",
    "df = pd.read_csv('data/Train.csv')\n",
    "df.columns = np.array([(str(x)).lower() for x in df.columns])\n",
    "df = df[['modelid', 'auctioneerid', 'yearmade', 'machinehourscurrentmeter', \\\n",
    "        'saledate', 'saleprice', 'state', 'productgroup']]\n",
    "df['sale_month'] = pd.to_datetime(df['saledate'], infer_datetime_format = True).dt.month\n",
    "df['sale_year'] = pd.to_datetime(df['saledate'], infer_datetime_format = True).dt.year\n",
    "df.drop('saledate', axis = 1, inplace = True)\n",
    "df.saleprice = df.saleprice.astype(float)"
   ]
  },
  {
   "cell_type": "code",
   "execution_count": 5,
   "metadata": {
    "collapsed": false
   },
   "outputs": [],
   "source": [
    "#formatting part 2\n",
    "df_dummies = pd.get_dummies(df[['state', 'productgroup']])\n",
    "df = pd.concat([df_dummies, df], axis=1)\n",
    "df.drop(['state', 'productgroup', 'machinehourscurrentmeter'], axis = 1, inplace = True)"
   ]
  },
  {
   "cell_type": "markdown",
   "metadata": {},
   "source": [
    "<h4>Get Train Test Split Data, Train Model</h4>"
   ]
  },
  {
   "cell_type": "code",
   "execution_count": 6,
   "metadata": {
    "collapsed": false
   },
   "outputs": [],
   "source": [
    "y = df.pop('saleprice')\n",
    "X = df.values"
   ]
  },
  {
   "cell_type": "code",
   "execution_count": 7,
   "metadata": {
    "collapsed": false
   },
   "outputs": [],
   "source": [
    "# #Impute machinehourscurrentmeter using the mean\n",
    "# pute = Imputer(copy = False, strategy = 'mean')\n",
    "# machine = np.array(pute.fit_transform(X[:, -3].reshape(-1,1)))\n",
    "# machine = machine.reshape(1, len(machine))\n",
    "# X[:,-3] = machine\n",
    "\n",
    "#Impute auctioneerid, \n",
    "pute2 = Imputer(copy = False, strategy = 'most_frequent')\n",
    "auctioneer = np.array(pute2.fit_transform(X[:, -5].reshape(-1,1)))\n",
    "auctioneer = auctioneer.reshape(1, len(auctioneer))\n",
    "X[:,-4] = auctioneer"
   ]
  },
  {
   "cell_type": "code",
   "execution_count": 8,
   "metadata": {
    "collapsed": false
   },
   "outputs": [
    {
     "name": "stdout",
     "output_type": "stream",
     "text": [
      "<class 'pandas.core.frame.DataFrame'>\n",
      "RangeIndex: 401125 entries, 0 to 401124\n",
      "Data columns (total 64 columns):\n",
      "state_Alabama           401125 non-null float64\n",
      "state_Alaska            401125 non-null float64\n",
      "state_Arizona           401125 non-null float64\n",
      "state_Arkansas          401125 non-null float64\n",
      "state_California        401125 non-null float64\n",
      "state_Colorado          401125 non-null float64\n",
      "state_Connecticut       401125 non-null float64\n",
      "state_Delaware          401125 non-null float64\n",
      "state_Florida           401125 non-null float64\n",
      "state_Georgia           401125 non-null float64\n",
      "state_Hawaii            401125 non-null float64\n",
      "state_Idaho             401125 non-null float64\n",
      "state_Illinois          401125 non-null float64\n",
      "state_Indiana           401125 non-null float64\n",
      "state_Iowa              401125 non-null float64\n",
      "state_Kansas            401125 non-null float64\n",
      "state_Kentucky          401125 non-null float64\n",
      "state_Louisiana         401125 non-null float64\n",
      "state_Maine             401125 non-null float64\n",
      "state_Maryland          401125 non-null float64\n",
      "state_Massachusetts     401125 non-null float64\n",
      "state_Michigan          401125 non-null float64\n",
      "state_Minnesota         401125 non-null float64\n",
      "state_Mississippi       401125 non-null float64\n",
      "state_Missouri          401125 non-null float64\n",
      "state_Montana           401125 non-null float64\n",
      "state_Nebraska          401125 non-null float64\n",
      "state_Nevada            401125 non-null float64\n",
      "state_New Hampshire     401125 non-null float64\n",
      "state_New Jersey        401125 non-null float64\n",
      "state_New Mexico        401125 non-null float64\n",
      "state_New York          401125 non-null float64\n",
      "state_North Carolina    401125 non-null float64\n",
      "state_North Dakota      401125 non-null float64\n",
      "state_Ohio              401125 non-null float64\n",
      "state_Oklahoma          401125 non-null float64\n",
      "state_Oregon            401125 non-null float64\n",
      "state_Pennsylvania      401125 non-null float64\n",
      "state_Puerto Rico       401125 non-null float64\n",
      "state_Rhode Island      401125 non-null float64\n",
      "state_South Carolina    401125 non-null float64\n",
      "state_South Dakota      401125 non-null float64\n",
      "state_Tennessee         401125 non-null float64\n",
      "state_Texas             401125 non-null float64\n",
      "state_Unspecified       401125 non-null float64\n",
      "state_Utah              401125 non-null float64\n",
      "state_Vermont           401125 non-null float64\n",
      "state_Virginia          401125 non-null float64\n",
      "state_Washington        401125 non-null float64\n",
      "state_Washington DC     401125 non-null float64\n",
      "state_West Virginia     401125 non-null float64\n",
      "state_Wisconsin         401125 non-null float64\n",
      "state_Wyoming           401125 non-null float64\n",
      "productgroup_BL         401125 non-null float64\n",
      "productgroup_MG         401125 non-null float64\n",
      "productgroup_SSL        401125 non-null float64\n",
      "productgroup_TEX        401125 non-null float64\n",
      "productgroup_TTT        401125 non-null float64\n",
      "productgroup_WL         401125 non-null float64\n",
      "modelid                 401125 non-null int64\n",
      "auctioneerid            380989 non-null float64\n",
      "yearmade                401125 non-null int64\n",
      "sale_month              401125 non-null int64\n",
      "sale_year               401125 non-null int64\n",
      "dtypes: float64(60), int64(4)\n",
      "memory usage: 195.9 MB\n",
      "None\n",
      "\n",
      "\n",
      "[  1.00000000e+00   0.00000000e+00   0.00000000e+00   0.00000000e+00\n",
      "   0.00000000e+00   0.00000000e+00   0.00000000e+00   0.00000000e+00\n",
      "   0.00000000e+00   0.00000000e+00   0.00000000e+00   0.00000000e+00\n",
      "   0.00000000e+00   0.00000000e+00   0.00000000e+00   0.00000000e+00\n",
      "   0.00000000e+00   0.00000000e+00   0.00000000e+00   0.00000000e+00\n",
      "   0.00000000e+00   0.00000000e+00   0.00000000e+00   0.00000000e+00\n",
      "   0.00000000e+00   0.00000000e+00   0.00000000e+00   0.00000000e+00\n",
      "   0.00000000e+00   0.00000000e+00   0.00000000e+00   0.00000000e+00\n",
      "   0.00000000e+00   0.00000000e+00   0.00000000e+00   0.00000000e+00\n",
      "   0.00000000e+00   0.00000000e+00   0.00000000e+00   0.00000000e+00\n",
      "   0.00000000e+00   0.00000000e+00   0.00000000e+00   0.00000000e+00\n",
      "   0.00000000e+00   0.00000000e+00   0.00000000e+00   0.00000000e+00\n",
      "   0.00000000e+00   0.00000000e+00   0.00000000e+00   0.00000000e+00\n",
      "   0.00000000e+00   0.00000000e+00   0.00000000e+00   0.00000000e+00\n",
      "   0.00000000e+00   0.00000000e+00   1.00000000e+00   3.15700000e+03\n",
      "   3.15700000e+03   2.00400000e+03   1.10000000e+01   2.00600000e+03]\n"
     ]
    }
   ],
   "source": [
    "X_train, X_test, y_train, y_test = train_test_split(X, y)\n",
    "print df.info()\n",
    "print '\\n'\n",
    "print X[0]"
   ]
  },
  {
   "cell_type": "code",
   "execution_count": 9,
   "metadata": {
    "collapsed": false
   },
   "outputs": [],
   "source": [
    "gb = GradientBoostingRegressor()\n",
    "gb.fit(X_train, y_train)\n",
    "score = gb.score(X_test, y_test)"
   ]
  },
  {
   "cell_type": "code",
   "execution_count": 10,
   "metadata": {
    "collapsed": false
   },
   "outputs": [
    {
     "name": "stderr",
     "output_type": "stream",
     "text": [
      "/Users/Trent/anaconda/lib/python2.7/site-packages/sklearn/metrics/scorer.py:90: DeprecationWarning: Scoring method mean_squared_error was renamed to neg_mean_squared_error in version 0.18 and will be removed in 0.20.\n",
      "  sample_weight=sample_weight)\n",
      "/Users/Trent/anaconda/lib/python2.7/site-packages/sklearn/metrics/scorer.py:90: DeprecationWarning: Scoring method mean_squared_error was renamed to neg_mean_squared_error in version 0.18 and will be removed in 0.20.\n",
      "  sample_weight=sample_weight)\n",
      "/Users/Trent/anaconda/lib/python2.7/site-packages/sklearn/metrics/scorer.py:90: DeprecationWarning: Scoring method mean_squared_error was renamed to neg_mean_squared_error in version 0.18 and will be removed in 0.20.\n",
      "  sample_weight=sample_weight)\n",
      "/Users/Trent/anaconda/lib/python2.7/site-packages/sklearn/metrics/scorer.py:90: DeprecationWarning: Scoring method mean_squared_error was renamed to neg_mean_squared_error in version 0.18 and will be removed in 0.20.\n",
      "  sample_weight=sample_weight)\n",
      "/Users/Trent/anaconda/lib/python2.7/site-packages/sklearn/metrics/scorer.py:90: DeprecationWarning: Scoring method mean_squared_error was renamed to neg_mean_squared_error in version 0.18 and will be removed in 0.20.\n",
      "  sample_weight=sample_weight)\n"
     ]
    }
   ],
   "source": [
    "log_score = cross_val_score(gb, X_test, y_test, scoring='mean_squared_error', cv=5, n_jobs=-1)"
   ]
  },
  {
   "cell_type": "code",
   "execution_count": 11,
   "metadata": {
    "collapsed": false
   },
   "outputs": [
    {
     "name": "stdout",
     "output_type": "stream",
     "text": [
      "R_squared: 0.628563974236\n",
      "Mean Error: [ 14041.42453832  14307.13839782  14158.0166562   13975.87656449\n",
      "  14457.04262696]\n"
     ]
    }
   ],
   "source": [
    "print \"R_squared:\", score\n",
    "print \"Mean Error:\", np.sqrt(-1*log_score)"
   ]
  },
  {
   "cell_type": "code",
   "execution_count": null,
   "metadata": {
    "collapsed": true
   },
   "outputs": [],
   "source": []
  }
 ],
 "metadata": {
  "anaconda-cloud": {},
  "kernelspec": {
   "display_name": "Python [default]",
   "language": "python",
   "name": "python2"
  },
  "language_info": {
   "codemirror_mode": {
    "name": "ipython",
    "version": 2
   },
   "file_extension": ".py",
   "mimetype": "text/x-python",
   "name": "python",
   "nbconvert_exporter": "python",
   "pygments_lexer": "ipython2",
   "version": "2.7.12"
  }
 },
 "nbformat": 4,
 "nbformat_minor": 1
}
